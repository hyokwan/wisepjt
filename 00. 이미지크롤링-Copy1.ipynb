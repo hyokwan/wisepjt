{
 "cells": [
  {
   "cell_type": "code",
   "execution_count": 2,
   "id": "c0177418-53d1-447e-a861-0fd81bf32a7f",
   "metadata": {
    "scrolled": true,
    "tags": []
   },
   "outputs": [],
   "source": [
    "from selenium import webdriver\n",
    "from selenium.webdriver.chrome.service import Service\n",
    "from selenium.webdriver.chrome.options import Options\n",
    "from webdriver_manager.chrome import ChromeDriverManager\n",
    "from selenium.webdriver.common.by import By\n",
    "from selenium.webdriver.common.keys import Keys\n",
    "import os, time, random\n",
    "from bs4 import BeautifulSoup\n",
    "import urllib.request"
   ]
  },
  {
   "cell_type": "code",
   "execution_count": 3,
   "id": "4b6133dc-8f4a-463f-bfc4-483105edcfec",
   "metadata": {
    "scrolled": true,
    "tags": []
   },
   "outputs": [],
   "source": [
    "def chromeWebdriver():\n",
    "    options = Options()\n",
    "    options.add_argument(\"lang=ko_KR\")  # 언어 설정\n",
    "    # options.add_argument(\"start-maximized\") # 창 크기 최대로\n",
    "    options.add_argument(\"disable-infobars\")\n",
    "    options.add_argument(\"--disable-extensions\")    \n",
    "    options.add_experimental_option('detach', True)  # 브라우저 안 닫히게\n",
    "    options.add_experimental_option('excludeSwitches', ['enable-logging'])  # 시스템 장치 에러 숨기기\n",
    "    user_agent = 'Mozilla/5.0 (Windows NT 10.0; Win64; x64) AppleWebKit/537.36 (KHTML, like Gecko) Chrome/100.0.4896.75 Safari/537.36'\n",
    "    options.add_argument(f'user-agent={user_agent}')    \n",
    "    # options.add_argument('--headless')  # 웹 브라우저를 시각적으로 띄우지 않는 headless chrome 옵션\n",
    "    driver = webdriver.Chrome(service=Service(executable_path=ChromeDriverManager().install()), options=options)\n",
    "    return driver"
   ]
  },
  {
   "cell_type": "code",
   "execution_count": 4,
   "id": "2628e3d5-581b-4c0a-8bf0-4433e2170efa",
   "metadata": {
    "scrolled": true,
    "tags": []
   },
   "outputs": [],
   "source": [
    "# def collect_image(search_word, extract_img_count):\n",
    "#     url = 'https://www.google.co.kr'\n",
    "\n",
    "#     now = time.localtime()\n",
    "#     today_time = f'{now.tm_year}{now.tm_mon}{now.tm_mday}_{now.tm_hour}{now.tm_min}'\n",
    "#     print(today_time)\n",
    "\n",
    "#     file_path = \"./images/\"\n",
    "\n",
    "#     os.chdir(file_path)\n",
    "#     os.makedirs(file_path + today_time + '_' + search_word)\n",
    "#     os.chdir(file_path + today_time + '_' + search_word)\n",
    "#     file_save_dir = file_path + today_time + '_' + search_word\n",
    "#     print(file_save_dir)\n",
    "\n",
    "#     driver = chromeWebdriver()\n",
    "#     driver.get(url)\n",
    "#     time.sleep(random.uniform(2, 3))\n",
    "#     elem_q = driver.find_element(By.NAME, 'q')\n",
    "#     elem_q.send_keys(search_word)\n",
    "#     elem_q.submit()\n",
    "\n",
    "#     driver.find_element(By.LINK_TEXT, '이미지').click()  # 텍스트 메뉴 '이미지' 링크 클릭\n",
    "#     # driver.find_element(By.XPATH, '//*[@id=\"hdtb-msb\"]/div[1]/div/div[2]/a').click()\n",
    "#     time.sleep(random.uniform(1, 2))\n",
    "\n",
    "#     # 페이지 스크롤 다운\n",
    "#     def page_scrolling(drivers):\n",
    "#         ## scrolling ------------------------------\n",
    "#         elem = driver.find_element(By.TAG_NAME, 'body')\n",
    "#         page_height = driver.execute_script('return document.body.scrollHeight')\n",
    "#         # print(page_height)\n",
    "\n",
    "#         # more_view_cnt = 0\n",
    "#         scroll_cnt = 1\n",
    "#         more_view_scroll_cnt = -1  # '결과 더보기' 버튼 나올 때의 scroll_cnt (break 처리 위해 사용)\n",
    "#         equal_cnt = 1\n",
    "#         while True:\n",
    "#             elem.send_keys(Keys.PAGE_DOWN)\n",
    "#             time.sleep(random.uniform(0.3, 0.5))\n",
    "#             new_height = driver.execute_script('return document.body.scrollHeight')\n",
    "#             if page_height != new_height:\n",
    "#                 page_height = new_height\n",
    "#                 equal_cnt = 1\n",
    "#             print(f'scroll_cnt: {scroll_cnt}, new_height: {new_height}, equal_cnt: {equal_cnt}')\n",
    "            \n",
    "#             try:\n",
    "#                 scroll_cnt += 1\n",
    "#                 equal_cnt += 1\n",
    "#                 driver.find_element(By.XPATH, '//*[@id=\"islmp\"]/div/div/div/div[1]/div[2]/div[2]/input').click()  # 결과 더보기 버튼 처리\n",
    "#                 print('결과 더보기 버튼 클릭 처리')\n",
    "#                 more_view_scroll_cnt = scroll_cnt\n",
    "#                 more_view_cnt += 1\n",
    "#             except:\n",
    "#                 if equal_cnt == 20:  # scroll_cnt / more_view_scroll_cnt > 2.5:\n",
    "#                     break\n",
    "#                 continue\n",
    "#         ## End of scrolling ------------------------------\n",
    "\n",
    "#     page_scrolling(driver)\n",
    "\n",
    "#     file_no = 1\n",
    "#     count = 1\n",
    "#     img_src = []\n",
    "\n",
    "#     html = driver.page_source\n",
    "#     soup = BeautifulSoup(html, 'html.parser')\n",
    "#     # print(soup)\n",
    "#     # imgs = driver.find_elements(By.TAG_NAME, 'img')\n",
    "#     imgs = driver.find_elements(By.CSS_SELECTOR, '#islrg > div.islrc > div a.wXeWr.islib.nfEiy')\n",
    "#     print(len(imgs))\n",
    "\n",
    "#     for img in imgs:\n",
    "#         img_src1 = img.click()  # 이미지 클릭 시 display 되는 url을 찾기 위해 클릭함\n",
    "#         try:\n",
    "#             img_src2 = driver.find_element(By.CSS_SELECTOR, '#Sva75c > div > div > div.pxAole > div.tvh9oe.BIB1wf > c-wiz > div > div.OUZ5W > div.zjoqD > div.qdnLaf.isv-id > div > a')\n",
    "#         except Exception:\n",
    "#             continue\n",
    "#         time.sleep(random.uniform(0.2, 0.5))\n",
    "#         img_src3 = img_src2.find_element(By.TAG_NAME, 'img').get_attribute('src')\n",
    "#         if img_src3[:4] != 'http':\n",
    "#             continue\n",
    "#         print(count, img_src3, '\\n')\n",
    "\n",
    "#         img_src.append(img_src3)\n",
    "#         if count == extract_img_count + 10:  # 이미지 에러 대비해서 입력 숫자보다 크게 잡음\n",
    "#             break        \n",
    "#         count += 1\n",
    "        \n",
    "#     print(f'\\n{\"=\"*10} 추출한 전체 리스트 {\"=\"*10}\\n{img_src}\\n\\n{\"=\"*10}총 {len(img_src)}개 추출함{\"=\"*10}\\n')\n",
    "\n",
    "#     for i in range(len(img_src)):\n",
    "#         extention = img_src[i].split('.')[-1]\n",
    "#         ext = ''\n",
    "#         if extention in ('jpg', 'JPG', 'jpeg', 'JPEG', 'png', 'PNG', 'gif', 'GIF'):\n",
    "#             ext = '.' + extention\n",
    "#         else:\n",
    "#             ext = '.jpg'        \n",
    "#         try:\n",
    "#             urllib.request.urlretrieve(img_src[i], str(file_no).zfill(3) + ext)\n",
    "#             print(img_src[i])\n",
    "#         except Exception:\n",
    "#             continue\n",
    "\n",
    "#         print(f'{file_no}번째 이미지 저장-----')\n",
    "#         file_no += 1\n",
    "        \n",
    "#         if file_no - 1 == extract_img_count:\n",
    "#             break\n",
    "\n",
    "#     driver.close()\n",
    "\n",
    "\n",
    "# # if __name__ == '__main__':\n",
    "# #     collect_image('고궁', 200)"
   ]
  },
  {
   "cell_type": "code",
   "execution_count": 5,
   "id": "e759ea6f-88b5-42a4-b31c-56931f2de602",
   "metadata": {},
   "outputs": [],
   "source": [
    "search_word = \"고궁\""
   ]
  },
  {
   "cell_type": "code",
   "execution_count": 6,
   "id": "ec00f529-604f-468a-9a35-a265af5a5362",
   "metadata": {},
   "outputs": [],
   "source": [
    "extract_img_count = 10"
   ]
  },
  {
   "cell_type": "code",
   "execution_count": 7,
   "id": "5b7e289d-e407-487b-bcaa-4e79ea76700d",
   "metadata": {},
   "outputs": [],
   "source": [
    "owd = os.getcwd()"
   ]
  },
  {
   "cell_type": "code",
   "execution_count": null,
   "id": "beee4246-8f45-4bec-8af0-3f0bba2019bc",
   "metadata": {},
   "outputs": [],
   "source": []
  },
  {
   "cell_type": "code",
   "execution_count": null,
   "id": "17e6c0ba-089f-4410-aaa9-01065902848e",
   "metadata": {},
   "outputs": [],
   "source": []
  },
  {
   "cell_type": "code",
   "execution_count": 6,
   "id": "0affa585-4714-414f-9031-b9445d3ebff3",
   "metadata": {},
   "outputs": [
    {
     "name": "stdout",
     "output_type": "stream",
     "text": [
      "2022913_1632\n"
     ]
    }
   ],
   "source": [
    "url = 'https://www.google.co.kr'\n",
    "\n",
    "now = time.localtime()\n",
    "today_time = f'{now.tm_year}{now.tm_mon}{now.tm_mday}_{now.tm_hour}{now.tm_min}'\n",
    "print(today_time)"
   ]
  },
  {
   "cell_type": "code",
   "execution_count": 1,
   "id": "9d29bfa4-4142-458a-977a-96d359583478",
   "metadata": {},
   "outputs": [
    {
     "ename": "NameError",
     "evalue": "name 'os' is not defined",
     "output_type": "error",
     "traceback": [
      "\u001b[1;31m---------------------------------------------------------------------------\u001b[0m",
      "\u001b[1;31mNameError\u001b[0m                                 Traceback (most recent call last)",
      "\u001b[1;32m~\\AppData\\Local\\Temp/ipykernel_11088/3905953705.py\u001b[0m in \u001b[0;36m<module>\u001b[1;34m\u001b[0m\n\u001b[1;32m----> 1\u001b[1;33m \u001b[0mowd\u001b[0m \u001b[1;33m=\u001b[0m \u001b[0mos\u001b[0m\u001b[1;33m.\u001b[0m\u001b[0mgetcwd\u001b[0m\u001b[1;33m(\u001b[0m\u001b[1;33m)\u001b[0m\u001b[1;33m\u001b[0m\u001b[1;33m\u001b[0m\u001b[0m\n\u001b[0m",
      "\u001b[1;31mNameError\u001b[0m: name 'os' is not defined"
     ]
    }
   ],
   "source": [
    "owd = os.getcwd()"
   ]
  },
  {
   "cell_type": "code",
   "execution_count": null,
   "id": "84b74e73-5b6c-454c-befe-3b7d316237e7",
   "metadata": {},
   "outputs": [],
   "source": []
  },
  {
   "cell_type": "code",
   "execution_count": 12,
   "id": "73d61d6d-a92e-4006-92c2-9bcd913be815",
   "metadata": {},
   "outputs": [],
   "source": [
    "os.chdir(\"./\")"
   ]
  },
  {
   "cell_type": "code",
   "execution_count": 13,
   "id": "86a2fe21-97c0-487b-9061-80aedbce22fb",
   "metadata": {},
   "outputs": [
    {
     "data": {
      "text/plain": [
       "'C:\\\\Users\\\\SMART-22\\\\wise\\\\wisepjt\\\\images\\\\images\\\\2022913_1632_고궁'"
      ]
     },
     "execution_count": 13,
     "metadata": {},
     "output_type": "execute_result"
    }
   ],
   "source": [
    "pwd"
   ]
  },
  {
   "cell_type": "code",
   "execution_count": 9,
   "id": "1332545d-d038-4126-b9b6-ab735163773f",
   "metadata": {},
   "outputs": [
    {
     "ename": "FileNotFoundError",
     "evalue": "[WinError 2] 지정된 파일을 찾을 수 없습니다: './images/'",
     "output_type": "error",
     "traceback": [
      "\u001b[1;31m---------------------------------------------------------------------------\u001b[0m",
      "\u001b[1;31mFileNotFoundError\u001b[0m                         Traceback (most recent call last)",
      "\u001b[1;32m~\\AppData\\Local\\Temp/ipykernel_7792/2436517411.py\u001b[0m in \u001b[0;36m<module>\u001b[1;34m\u001b[0m\n\u001b[0;32m      1\u001b[0m \u001b[0mfile_path\u001b[0m \u001b[1;33m=\u001b[0m \u001b[1;34m\"./images/\"\u001b[0m\u001b[1;33m\u001b[0m\u001b[1;33m\u001b[0m\u001b[0m\n\u001b[1;32m----> 2\u001b[1;33m \u001b[0mos\u001b[0m\u001b[1;33m.\u001b[0m\u001b[0mchdir\u001b[0m\u001b[1;33m(\u001b[0m\u001b[0mfile_path\u001b[0m\u001b[1;33m)\u001b[0m\u001b[1;33m\u001b[0m\u001b[1;33m\u001b[0m\u001b[0m\n\u001b[0m",
      "\u001b[1;31mFileNotFoundError\u001b[0m: [WinError 2] 지정된 파일을 찾을 수 없습니다: './images/'"
     ]
    }
   ],
   "source": [
    "file_path = \"./images/\"\n",
    "os.chdir(file_path)"
   ]
  },
  {
   "cell_type": "code",
   "execution_count": 7,
   "id": "7bda7abe-17c5-4071-9969-4f48a4a9490a",
   "metadata": {},
   "outputs": [
    {
     "name": "stdout",
     "output_type": "stream",
     "text": [
      "./images/2022913_1632_고궁\n"
     ]
    }
   ],
   "source": [
    "file_path = \"./images/\"\n",
    "\n",
    "os.chdir(file_path)\n",
    "os.makedirs(file_path + today_time + '_' + search_word)\n",
    "os.chdir(file_path + today_time + '_' + search_word)\n",
    "file_save_dir = file_path + today_time + '_' + search_word\n",
    "print(file_save_dir)"
   ]
  },
  {
   "cell_type": "code",
   "execution_count": null,
   "id": "41659871-008b-4fbc-9653-a433ea08a865",
   "metadata": {},
   "outputs": [],
   "source": [
    "driver = chromeWebdriver()\n",
    "driver.get(url)\n",
    "time.sleep(random.uniform(2, 3))\n",
    "elem_q = driver.find_element(By.NAME, 'q')\n",
    "elem_q.send_keys(search_word)\n",
    "elem_q.submit()\n",
    "\n",
    "driver.find_element(By.LINK_TEXT, '이미지').click()  # 텍스트 메뉴 '이미지' 링크 클릭\n",
    "# driver.find_element(By.XPATH, '//*[@id=\"hdtb-msb\"]/div[1]/div/div[2]/a').click()\n",
    "time.sleep(random.uniform(1, 2))\n",
    "\n",
    "# 페이지 스크롤 다운\n",
    "def page_scrolling(drivers):\n",
    "    ## scrolling ------------------------------\n",
    "    elem = driver.find_element(By.TAG_NAME, 'body')\n",
    "    page_height = driver.execute_script('return document.body.scrollHeight')\n",
    "    # print(page_height)\n",
    "\n",
    "    # more_view_cnt = 0\n",
    "    scroll_cnt = 1\n",
    "    more_view_scroll_cnt = -1  # '결과 더보기' 버튼 나올 때의 scroll_cnt (break 처리 위해 사용)\n",
    "    equal_cnt = 1\n",
    "    while True:\n",
    "        elem.send_keys(Keys.PAGE_DOWN)\n",
    "        time.sleep(random.uniform(0.3, 0.5))\n",
    "        new_height = driver.execute_script('return document.body.scrollHeight')\n",
    "        if page_height != new_height:\n",
    "            page_height = new_height\n",
    "            equal_cnt = 1\n",
    "        print(f'scroll_cnt: {scroll_cnt}, new_height: {new_height}, equal_cnt: {equal_cnt}')\n",
    "\n",
    "        try:\n",
    "            scroll_cnt += 1\n",
    "            equal_cnt += 1\n",
    "            driver.find_element(By.XPATH, '//*[@id=\"islmp\"]/div/div/div/div[1]/div[2]/div[2]/input').click()  # 결과 더보기 버튼 처리\n",
    "            print('결과 더보기 버튼 클릭 처리')\n",
    "            more_view_scroll_cnt = scroll_cnt\n",
    "            more_view_cnt += 1\n",
    "        except:\n",
    "            if equal_cnt == 20:  # scroll_cnt / more_view_scroll_cnt > 2.5:\n",
    "                break\n",
    "            continue\n",
    "    ## End of scrolling ------------------------------\n",
    "\n",
    "page_scrolling(driver)\n",
    "\n",
    "file_no = 1\n",
    "count = 1\n",
    "img_src = []\n",
    "\n",
    "html = driver.page_source\n",
    "soup = BeautifulSoup(html, 'html.parser')\n",
    "# print(soup)\n",
    "# imgs = driver.find_elements(By.TAG_NAME, 'img')\n",
    "imgs = driver.find_elements(By.CSS_SELECTOR, '#islrg > div.islrc > div a.wXeWr.islib.nfEiy')\n",
    "print(len(imgs))\n",
    "\n",
    "for img in imgs:\n",
    "    img_src1 = img.click()  # 이미지 클릭 시 display 되는 url을 찾기 위해 클릭함\n",
    "    try:\n",
    "        img_src2 = driver.find_element(By.CSS_SELECTOR, '#Sva75c > div > div > div.pxAole > div.tvh9oe.BIB1wf > c-wiz > div > div.OUZ5W > div.zjoqD > div.qdnLaf.isv-id > div > a')\n",
    "    except Exception:\n",
    "        continue\n",
    "    time.sleep(random.uniform(0.2, 0.5))\n",
    "    img_src3 = img_src2.find_element(By.TAG_NAME, 'img').get_attribute('src')\n",
    "    if img_src3[:4] != 'http':\n",
    "        continue\n",
    "    print(count, img_src3, '\\n')\n",
    "\n",
    "    img_src.append(img_src3)\n",
    "    if count == extract_img_count + 10:  # 이미지 에러 대비해서 입력 숫자보다 크게 잡음\n",
    "        break        \n",
    "    count += 1\n",
    "\n",
    "print(f'\\n{\"=\"*10} 추출한 전체 리스트 {\"=\"*10}\\n{img_src}\\n\\n{\"=\"*10}총 {len(img_src)}개 추출함{\"=\"*10}\\n')\n",
    "\n",
    "for i in range(len(img_src)):\n",
    "    extention = img_src[i].split('.')[-1]\n",
    "    ext = ''\n",
    "    if extention in ('jpg', 'JPG', 'jpeg', 'JPEG', 'png', 'PNG', 'gif', 'GIF'):\n",
    "        ext = '.' + extention\n",
    "    else:\n",
    "        ext = '.jpg'        \n",
    "    try:\n",
    "        urllib.request.urlretrieve(img_src[i], str(file_no).zfill(3) + ext)\n",
    "        print(img_src[i])\n",
    "    except Exception:\n",
    "        continue\n",
    "\n",
    "    print(f'{file_no}번째 이미지 저장-----')\n",
    "    file_no += 1\n",
    "\n",
    "    if file_no - 1 == extract_img_count:\n",
    "        break\n",
    "\n",
    "driver.close()"
   ]
  },
  {
   "cell_type": "code",
   "execution_count": null,
   "id": "69ca24ff-332e-475e-afab-1905340f32b2",
   "metadata": {},
   "outputs": [],
   "source": []
  },
  {
   "cell_type": "code",
   "execution_count": null,
   "id": "cfbcc77a-340b-4e23-b5b5-9145fd63201c",
   "metadata": {},
   "outputs": [],
   "source": []
  },
  {
   "cell_type": "code",
   "execution_count": null,
   "id": "65108811-1788-444b-9de0-94cf4838a7fb",
   "metadata": {},
   "outputs": [],
   "source": []
  },
  {
   "cell_type": "code",
   "execution_count": 6,
   "id": "84e07317-9166-4af7-8c92-9bbab8d027d6",
   "metadata": {},
   "outputs": [
    {
     "name": "stdout",
     "output_type": "stream",
     "text": [
      "2022913_1625\n"
     ]
    },
    {
     "ename": "FileNotFoundError",
     "evalue": "[WinError 2] 지정된 파일을 찾을 수 없습니다: './images/'",
     "output_type": "error",
     "traceback": [
      "\u001b[1;31m---------------------------------------------------------------------------\u001b[0m",
      "\u001b[1;31mFileNotFoundError\u001b[0m                         Traceback (most recent call last)",
      "\u001b[1;32m~\\AppData\\Local\\Temp/ipykernel_6412/3978480457.py\u001b[0m in \u001b[0;36m<module>\u001b[1;34m\u001b[0m\n\u001b[1;32m----> 1\u001b[1;33m \u001b[0mcollect_image\u001b[0m\u001b[1;33m(\u001b[0m\u001b[1;34m'고궁'\u001b[0m\u001b[1;33m,\u001b[0m\u001b[1;36m2\u001b[0m\u001b[1;33m)\u001b[0m\u001b[1;33m\u001b[0m\u001b[1;33m\u001b[0m\u001b[0m\n\u001b[0m",
      "\u001b[1;32m~\\AppData\\Local\\Temp/ipykernel_6412/1890229759.py\u001b[0m in \u001b[0;36mcollect_image\u001b[1;34m(search_word, extract_img_count)\u001b[0m\n\u001b[0;32m     34\u001b[0m     \u001b[0mfile_path\u001b[0m \u001b[1;33m=\u001b[0m \u001b[1;34m\"./images/\"\u001b[0m\u001b[1;33m\u001b[0m\u001b[1;33m\u001b[0m\u001b[0m\n\u001b[0;32m     35\u001b[0m \u001b[1;33m\u001b[0m\u001b[0m\n\u001b[1;32m---> 36\u001b[1;33m     \u001b[0mos\u001b[0m\u001b[1;33m.\u001b[0m\u001b[0mchdir\u001b[0m\u001b[1;33m(\u001b[0m\u001b[0mfile_path\u001b[0m\u001b[1;33m)\u001b[0m\u001b[1;33m\u001b[0m\u001b[1;33m\u001b[0m\u001b[0m\n\u001b[0m\u001b[0;32m     37\u001b[0m     \u001b[0mos\u001b[0m\u001b[1;33m.\u001b[0m\u001b[0mmakedirs\u001b[0m\u001b[1;33m(\u001b[0m\u001b[0mfile_path\u001b[0m \u001b[1;33m+\u001b[0m \u001b[0mtoday_time\u001b[0m \u001b[1;33m+\u001b[0m \u001b[1;34m'_'\u001b[0m \u001b[1;33m+\u001b[0m \u001b[0msearch_word\u001b[0m\u001b[1;33m)\u001b[0m\u001b[1;33m\u001b[0m\u001b[1;33m\u001b[0m\u001b[0m\n\u001b[0;32m     38\u001b[0m     \u001b[0mos\u001b[0m\u001b[1;33m.\u001b[0m\u001b[0mchdir\u001b[0m\u001b[1;33m(\u001b[0m\u001b[0mfile_path\u001b[0m \u001b[1;33m+\u001b[0m \u001b[0mtoday_time\u001b[0m \u001b[1;33m+\u001b[0m \u001b[1;34m'_'\u001b[0m \u001b[1;33m+\u001b[0m \u001b[0msearch_word\u001b[0m\u001b[1;33m)\u001b[0m\u001b[1;33m\u001b[0m\u001b[1;33m\u001b[0m\u001b[0m\n",
      "\u001b[1;31mFileNotFoundError\u001b[0m: [WinError 2] 지정된 파일을 찾을 수 없습니다: './images/'"
     ]
    }
   ],
   "source": [
    "collect_image('고궁',2)"
   ]
  }
 ],
 "metadata": {
  "kernelspec": {
   "display_name": "Python 3 (ipykernel)",
   "language": "python",
   "name": "python3"
  },
  "language_info": {
   "codemirror_mode": {
    "name": "ipython",
    "version": 3
   },
   "file_extension": ".py",
   "mimetype": "text/x-python",
   "name": "python",
   "nbconvert_exporter": "python",
   "pygments_lexer": "ipython3",
   "version": "3.9.7"
  }
 },
 "nbformat": 4,
 "nbformat_minor": 5
}
